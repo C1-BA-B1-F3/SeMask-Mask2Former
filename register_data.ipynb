{
 "cells": [
  {
   "cell_type": "code",
   "execution_count": null,
   "id": "a06b0e05",
   "metadata": {},
   "outputs": [],
   "source": [
    "from detectron2.data import DatasetCatalog, MetadataCatalog\n",
    "\n",
    "def Potsdam_train_dummy_reg():\n",
    "    dataset_dir='data/potsdam/'\n",
    "    dataset_dicts = []\n",
    "    img_dir = dataset_dir+'images/train_dummy/'\n",
    "    label_dir = dataset_dir+'annotations/train_dummy/'\n",
    "    Files=os.listdir(img_dir)\n",
    "    i=0\n",
    "    for file in Files:\n",
    "        record={}\n",
    "        height, width = cv2.imread(img_dir+file).shape[:2]\n",
    "        record[\"file_name\"] = img_dir+file\n",
    "        record[\"image_id\"] = img_dir+file\n",
    "        record[\"height\"] = height\n",
    "        record[\"width\"] = width\n",
    "        record[\"sem_seg_file_name\"] = label_dir+file[0:-4]+'.png'\n",
    "        dataset_dicts.append(record)\n",
    "       \n",
    "        \n",
    "    return dataset_dicts\n",
    "\n",
    "DatasetCatalog.register(\"Potsdam_train_dummy\", Potsdam_train_dummy_reg)\n",
    "\n",
    "MetadataCatalog.get(\"Potsdam_train_dummy\").stuff_classes = ['Background','Surfaces','Building','Low vegetation','tree','Car']\n",
    "MetadataCatalog.get(\"Potsdam_train_dummy\").stuff_colors = [(255,255,255),(0,0,255),(0,255,255),(0,255,0),(255,255,0),(255,0,0)]\n",
    "#MetadataCatalog.get(\"Potsdam_train\").stuff_colors = [0，1，2，3，4，255]\n",
    "MetadataCatalog.get(\"Potsdam_train_dummy\").ignore_label=255"
   ]
  },
  {
   "cell_type": "code",
   "execution_count": 3,
   "id": "9b07af7f-6540-427e-97e9-5a71a8e8b0c7",
   "metadata": {},
   "outputs": [],
   "source": [
    "from detectron2.data import DatasetCatalog, MetadataCatalog\n",
    "MetadataCatalog.get(\"Potsdam_train_dummy\").stuff_classes = ['Background','Surfaces','Building','Low vegetation','tree','Car']\n",
    "MetadataCatalog.get(\"Potsdam_train_dummy\").stuff_colors = [(255,255,255),(0,0,255),(0,255,255),(0,255,0),(255,255,0),(255,0,0)]\n",
    "#MetadataCatalog.get(\"Potsdam_train\").stuff_colors = [0，1，2，3，4，255]\n",
    "MetadataCatalog.get(\"Potsdam_train_dummy\").ignore_label=255"
   ]
  },
  {
   "cell_type": "code",
   "execution_count": 2,
   "id": "06ccde4d-bcea-435c-b149-cf29d1747c44",
   "metadata": {},
   "outputs": [],
   "source": [
    "from detectron2.data import DatasetCatalog, MetadataCatalog\n",
    "\n",
    "def Potsdam_train_dummy_reg():\n",
    "    dataset_dir='data/potsdam/'\n",
    "    dataset_dicts = []\n",
    "    img_dir = dataset_dir+'images/train_dummy1/'\n",
    "    label_dir = dataset_dir+'annotations/train_dummy1/'\n",
    "    Files=os.listdir(img_dir)\n",
    "    i=0\n",
    "    for file in Files:\n",
    "        record={}\n",
    "        height, width = cv2.imread(img_dir+file).shape[:2]\n",
    "        record[\"file_name\"] = img_dir+file\n",
    "        record[\"image_id\"] = img_dir+file\n",
    "        record[\"height\"] = height\n",
    "        record[\"width\"] = width\n",
    "        record[\"sem_seg_file_name\"] = label_dir+file[0:-4]+'.png'\n",
    "        dataset_dicts.append(record)\n",
    "       \n",
    "        \n",
    "    return dataset_dicts\n",
    "DatasetCatalog.register(\"Potsdam_train_dummy\", Potsdam_train_dummy_reg)\n",
    "\n",
    "MetadataCatalog.get(\"Potsdam_train_dummy\").stuff_classes = ['Background','Surfaces','Building','Low vegetation','tree','Car']\n",
    "MetadataCatalog.get(\"Potsdam_train_dummy\").stuff_colors = [(255,255,255),(0,0,255),(0,255,255),(0,255,0),(255,255,0),(255,0,0)]\n",
    "#MetadataCatalog.get(\"Potsdam_train\").stuff_colors = [0，1，2，3，4，255]\n",
    "MetadataCatalog.get(\"Potsdam_train_dummy\").ignore_label=255"
   ]
  },
  {
   "cell_type": "code",
   "execution_count": null,
   "id": "515689be-c0e2-4834-b3de-8532cdf7fa02",
   "metadata": {},
   "outputs": [],
   "source": []
  }
 ],
 "metadata": {
  "kernelspec": {
   "display_name": "SeMask1",
   "language": "python",
   "name": "semask"
  },
  "language_info": {
   "codemirror_mode": {
    "name": "ipython",
    "version": 3
   },
   "file_extension": ".py",
   "mimetype": "text/x-python",
   "name": "python",
   "nbconvert_exporter": "python",
   "pygments_lexer": "ipython3",
   "version": "3.6.13"
  }
 },
 "nbformat": 4,
 "nbformat_minor": 5
}
