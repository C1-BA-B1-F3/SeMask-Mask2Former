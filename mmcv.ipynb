{
 "cells": [
  {
   "cell_type": "code",
   "execution_count": 1,
   "id": "68314008-7b87-41a3-8652-d56e72a1c4b2",
   "metadata": {},
   "outputs": [
    {
     "data": {
      "text/plain": [
       "ModuleList(\n",
       "  (0): ConvModule(\n",
       "    (conv): Conv2d(128, 512, kernel_size=(1, 1), stride=(1, 1), bias=False)\n",
       "    (bn): BatchNorm2d(512, eps=1e-05, momentum=0.1, affine=True, track_running_stats=True)\n",
       "    (activate): ReLU()\n",
       "  )\n",
       "  (1): ConvModule(\n",
       "    (conv): Conv2d(256, 512, kernel_size=(1, 1), stride=(1, 1), bias=False)\n",
       "    (bn): BatchNorm2d(512, eps=1e-05, momentum=0.1, affine=True, track_running_stats=True)\n",
       "    (activate): ReLU()\n",
       "  )\n",
       "  (2): ConvModule(\n",
       "    (conv): Conv2d(512, 512, kernel_size=(1, 1), stride=(1, 1), bias=False)\n",
       "    (bn): BatchNorm2d(512, eps=1e-05, momentum=0.1, affine=True, track_running_stats=True)\n",
       "    (activate): ReLU()\n",
       "  )\n",
       ")"
      ]
     },
     "execution_count": 1,
     "metadata": {},
     "output_type": "execute_result"
    }
   ],
   "source": [
    "from mmcv.cnn import ConvModule, DepthwiseSeparableConvModule\n",
    "import torch\n",
    "import torch.nn as nn\n",
    "\n",
    "act_cfg=dict(type='ReLU')\n",
    "norm_cfg = dict(type='BN', requires_grad=True)\n",
    "in_channels = [128, 256, 512, 1024]\n",
    "lateral_convs = nn.ModuleList()\n",
    "for in_channels in in_channels[:-1]:  # skip the top layer\n",
    "    l_conv = ConvModule(\n",
    "        in_channels,\n",
    "        512,\n",
    "        1,\n",
    "        conv_cfg=None,\n",
    "        norm_cfg=norm_cfg,\n",
    "        act_cfg=act_cfg,\n",
    "        inplace=False)\n",
    "    lateral_convs.append(l_conv)\n",
    "    \n",
    "lateral_convs"
   ]
  },
  {
   "cell_type": "code",
   "execution_count": 3,
   "id": "351403ab-d50e-41a0-a0f6-0c4923490208",
   "metadata": {},
   "outputs": [],
   "source": [
    "import torch\n",
    "torch.cuda.empty_cache()"
   ]
  },
  {
   "cell_type": "code",
   "execution_count": 2,
   "id": "6e394677-04e2-4e42-9f7e-188b2f627a8f",
   "metadata": {},
   "outputs": [
    {
     "name": "stdout",
     "output_type": "stream",
     "text": [
      "3\n",
      "2\n",
      "1\n"
     ]
    }
   ],
   "source": [
    "for i in range(4 - 1, 0, -1):\n",
    "    print(i)"
   ]
  },
  {
   "cell_type": "code",
   "execution_count": null,
   "id": "03b487fe-b030-4e3f-a692-52620ba058f2",
   "metadata": {},
   "outputs": [],
   "source": []
  }
 ],
 "metadata": {
  "kernelspec": {
   "display_name": "SeMask1",
   "language": "python",
   "name": "semask"
  },
  "language_info": {
   "codemirror_mode": {
    "name": "ipython",
    "version": 3
   },
   "file_extension": ".py",
   "mimetype": "text/x-python",
   "name": "python",
   "nbconvert_exporter": "python",
   "pygments_lexer": "ipython3",
   "version": "3.6.13"
  }
 },
 "nbformat": 4,
 "nbformat_minor": 5
}
